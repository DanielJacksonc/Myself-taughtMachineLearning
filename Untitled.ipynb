{
 "cells": [
  {
   "cell_type": "code",
   "execution_count": 20,
   "id": "97b5ee22",
   "metadata": {},
   "outputs": [],
   "source": [
    "def Bmi_calculator(name1, height_ml, weight_kgl):\n",
    "    print(f\"hey{name1}, if your height is {height_ml}, and your weight is {weight_kgl}kg, then your Bmi is {height_ml / weight_kgl}\")\n",
    "    "
   ]
  },
  {
   "cell_type": "code",
   "execution_count": null,
   "id": "45de5b33",
   "metadata": {},
   "outputs": [],
   "source": []
  },
  {
   "cell_type": "code",
   "execution_count": 23,
   "id": "b855d769",
   "metadata": {},
   "outputs": [],
   "source": [
    "def distance(miles):\n",
    "    km = miles * 1.6\n",
    "    print(km)"
   ]
  },
  {
   "cell_type": "code",
   "execution_count": 27,
   "id": "5c6b8bfb",
   "metadata": {},
   "outputs": [
    {
     "name": "stdout",
     "output_type": "stream",
     "text": [
      "32.0\n"
     ]
    }
   ],
   "source": [
    "distance(20)"
   ]
  },
  {
   "cell_type": "code",
   "execution_count": 28,
   "id": "68d4ccab",
   "metadata": {},
   "outputs": [],
   "source": [
    "tracker = 0\n",
    "\n",
    "def moveForwards():\n",
    "    global tracker \n",
    "    tracker += 1\n",
    "    print('moved forward by one step.')\n",
    "\n",
    "def turnRight():\n",
    "    global tracker\n",
    "    tracker -= 1\n",
    "    print('turning right')\n",
    "    \n",
    "def move():\n",
    "    \n",
    "    \n",
    "    #Delete this line and replace with your code. \n",
    "\n",
    "    return tracker"
   ]
  },
  {
   "cell_type": "code",
   "execution_count": null,
   "id": "5c6a3654",
   "metadata": {},
   "outputs": [],
   "source": []
  }
 ],
 "metadata": {
  "kernelspec": {
   "display_name": "Python 3 (ipykernel)",
   "language": "python",
   "name": "python3"
  },
  "language_info": {
   "codemirror_mode": {
    "name": "ipython",
    "version": 3
   },
   "file_extension": ".py",
   "mimetype": "text/x-python",
   "name": "python",
   "nbconvert_exporter": "python",
   "pygments_lexer": "ipython3",
   "version": "3.9.13"
  }
 },
 "nbformat": 4,
 "nbformat_minor": 5
}
